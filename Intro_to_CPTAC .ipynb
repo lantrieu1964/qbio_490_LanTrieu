{
 "cells": [
  {
   "cell_type": "markdown",
   "id": "9f3b6a87",
   "metadata": {},
   "source": [
    "# Introduction to CPTAC and Proteomics\n",
    "\n",
    "This document will take you through the basics of CPTAC and analyzing proteomic data in python. Let's get started!"
   ]
  },
  {
   "cell_type": "markdown",
   "id": "64ad08b5",
   "metadata": {},
   "source": [
    "## Setting up your working directory\n",
    "\n",
    "Set your working directory to your analysis_data folder."
   ]
  },
  {
   "cell_type": "code",
   "execution_count": 2,
   "id": "a53acaad",
   "metadata": {},
   "outputs": [],
   "source": [
    "import os\n",
    "\n",
    "os.chdir('/Users/lantrieu1964/Documents/GitHub/qbio_490_LanTrieu/analysis_data')"
   ]
  },
  {
   "cell_type": "markdown",
   "id": "bcf734ad",
   "metadata": {},
   "source": [
    "### Start exploring CPTAC with `cptac`\n",
    "Similar to TCGAbiolinks, we need to load the package and download the data before using.\n",
    "1. Import the package (`cptac`).\n",
    "2. Look at the data sets available to us with the list_datasets() function. As a reminder, remember the package_name.method() syntax!\n",
    "3. Download the one of interest (BRCA in our case).\n",
    "4. Load it into our python environment."
   ]
  },
  {
   "cell_type": "code",
   "execution_count": 3,
   "id": "3274cad7",
   "metadata": {},
   "outputs": [
    {
     "data": {
      "text/html": [
       "<div>\n",
       "<style scoped>\n",
       "    .dataframe tbody tr th:only-of-type {\n",
       "        vertical-align: middle;\n",
       "    }\n",
       "\n",
       "    .dataframe tbody tr th {\n",
       "        vertical-align: top;\n",
       "    }\n",
       "\n",
       "    .dataframe thead th {\n",
       "        text-align: right;\n",
       "    }\n",
       "</style>\n",
       "<table border=\"1\" class=\"dataframe\">\n",
       "  <thead>\n",
       "    <tr style=\"text-align: right;\">\n",
       "      <th></th>\n",
       "      <th>Description</th>\n",
       "      <th>Data reuse status</th>\n",
       "      <th>Publication link</th>\n",
       "    </tr>\n",
       "    <tr>\n",
       "      <th>Dataset name</th>\n",
       "      <th></th>\n",
       "      <th></th>\n",
       "      <th></th>\n",
       "    </tr>\n",
       "  </thead>\n",
       "  <tbody>\n",
       "    <tr>\n",
       "      <th>Brca</th>\n",
       "      <td>breast cancer</td>\n",
       "      <td>no restrictions</td>\n",
       "      <td>https://pubmed.ncbi.nlm.nih.gov/33212010/</td>\n",
       "    </tr>\n",
       "    <tr>\n",
       "      <th>Ccrcc</th>\n",
       "      <td>clear cell renal cell carcinoma (kidney)</td>\n",
       "      <td>no restrictions</td>\n",
       "      <td>https://pubmed.ncbi.nlm.nih.gov/31675502/</td>\n",
       "    </tr>\n",
       "    <tr>\n",
       "      <th>Colon</th>\n",
       "      <td>colorectal cancer</td>\n",
       "      <td>no restrictions</td>\n",
       "      <td>https://pubmed.ncbi.nlm.nih.gov/31031003/</td>\n",
       "    </tr>\n",
       "    <tr>\n",
       "      <th>Endometrial</th>\n",
       "      <td>endometrial carcinoma (uterine)</td>\n",
       "      <td>no restrictions</td>\n",
       "      <td>https://pubmed.ncbi.nlm.nih.gov/32059776/</td>\n",
       "    </tr>\n",
       "    <tr>\n",
       "      <th>Gbm</th>\n",
       "      <td>glioblastoma</td>\n",
       "      <td>no restrictions</td>\n",
       "      <td>https://pubmed.ncbi.nlm.nih.gov/33577785/</td>\n",
       "    </tr>\n",
       "    <tr>\n",
       "      <th>Hnscc</th>\n",
       "      <td>head and neck squamous cell carcinoma</td>\n",
       "      <td>no restrictions</td>\n",
       "      <td>https://pubmed.ncbi.nlm.nih.gov/33417831/</td>\n",
       "    </tr>\n",
       "    <tr>\n",
       "      <th>Lscc</th>\n",
       "      <td>lung squamous cell carcinoma</td>\n",
       "      <td>no restrictions</td>\n",
       "      <td>https://pubmed.ncbi.nlm.nih.gov/34358469/</td>\n",
       "    </tr>\n",
       "    <tr>\n",
       "      <th>Luad</th>\n",
       "      <td>lung adenocarcinoma</td>\n",
       "      <td>no restrictions</td>\n",
       "      <td>https://pubmed.ncbi.nlm.nih.gov/32649874/</td>\n",
       "    </tr>\n",
       "    <tr>\n",
       "      <th>Ovarian</th>\n",
       "      <td>high grade serous ovarian cancer</td>\n",
       "      <td>no restrictions</td>\n",
       "      <td>https://pubmed.ncbi.nlm.nih.gov/27372738/</td>\n",
       "    </tr>\n",
       "    <tr>\n",
       "      <th>Pdac</th>\n",
       "      <td>pancreatic ductal adenocarcinoma</td>\n",
       "      <td>no restrictions</td>\n",
       "      <td>https://pubmed.ncbi.nlm.nih.gov/34534465/</td>\n",
       "    </tr>\n",
       "    <tr>\n",
       "      <th>UcecConf</th>\n",
       "      <td>endometrial confirmatory carcinoma</td>\n",
       "      <td>password access only</td>\n",
       "      <td>unpublished</td>\n",
       "    </tr>\n",
       "    <tr>\n",
       "      <th>GbmConf</th>\n",
       "      <td>glioblastoma confirmatory</td>\n",
       "      <td>password access only</td>\n",
       "      <td>unpublished</td>\n",
       "    </tr>\n",
       "  </tbody>\n",
       "</table>\n",
       "</div>"
      ],
      "text/plain": [
       "                                           Description     Data reuse status  \\\n",
       "Dataset name                                                                   \n",
       "Brca                                     breast cancer       no restrictions   \n",
       "Ccrcc         clear cell renal cell carcinoma (kidney)       no restrictions   \n",
       "Colon                                colorectal cancer       no restrictions   \n",
       "Endometrial            endometrial carcinoma (uterine)       no restrictions   \n",
       "Gbm                                       glioblastoma       no restrictions   \n",
       "Hnscc            head and neck squamous cell carcinoma       no restrictions   \n",
       "Lscc                      lung squamous cell carcinoma       no restrictions   \n",
       "Luad                               lung adenocarcinoma       no restrictions   \n",
       "Ovarian               high grade serous ovarian cancer       no restrictions   \n",
       "Pdac                  pancreatic ductal adenocarcinoma       no restrictions   \n",
       "UcecConf            endometrial confirmatory carcinoma  password access only   \n",
       "GbmConf                      glioblastoma confirmatory  password access only   \n",
       "\n",
       "                                       Publication link  \n",
       "Dataset name                                             \n",
       "Brca          https://pubmed.ncbi.nlm.nih.gov/33212010/  \n",
       "Ccrcc         https://pubmed.ncbi.nlm.nih.gov/31675502/  \n",
       "Colon         https://pubmed.ncbi.nlm.nih.gov/31031003/  \n",
       "Endometrial   https://pubmed.ncbi.nlm.nih.gov/32059776/  \n",
       "Gbm           https://pubmed.ncbi.nlm.nih.gov/33577785/  \n",
       "Hnscc         https://pubmed.ncbi.nlm.nih.gov/33417831/  \n",
       "Lscc          https://pubmed.ncbi.nlm.nih.gov/34358469/  \n",
       "Luad          https://pubmed.ncbi.nlm.nih.gov/32649874/  \n",
       "Ovarian       https://pubmed.ncbi.nlm.nih.gov/27372738/  \n",
       "Pdac          https://pubmed.ncbi.nlm.nih.gov/34534465/  \n",
       "UcecConf                                    unpublished  \n",
       "GbmConf                                     unpublished  "
      ]
     },
     "execution_count": 3,
     "metadata": {},
     "output_type": "execute_result"
    }
   ],
   "source": [
    "# 1. Import cptac\n",
    "import cptac\n",
    "\n",
    "# 2. Examine the data sets available with list_datasets()\n",
    "cptac.list_datasets()"
   ]
  },
  {
   "cell_type": "code",
   "execution_count": 4,
   "id": "aeb53aa2",
   "metadata": {},
   "outputs": [
    {
     "name": "stdout",
     "output_type": "stream",
     "text": [
      "                                         \r"
     ]
    }
   ],
   "source": [
    "# 3. Download the breast cancer data set -- fill in dataset!\n",
    "cptac.download(dataset=\"Brca\")\n",
    "\n",
    "# 4. Load the breast cancer data set\n",
    "brca = cptac.Brca()"
   ]
  },
  {
   "cell_type": "markdown",
   "id": "fadf54d4",
   "metadata": {},
   "source": [
    "Now, we have our brca object containing a bunch of data. We can use the list_data() function the data available for the breast cancer dataset.\n",
    "<br></br>\n",
    "In addition to the proteomics data, we can also accesss the accompanying transcriptomics, CNV, etc. using this object. We will focus on the omics which we have already seen for this course; however, other data present in this dataset are also pretty interesting. Finally, many proteins can't be identified very well, so they won't appear as a column (for example, APC isn't in the proteomics data set).\n",
    "<br></br>\n",
    "**Exercise 1.1** Call the list_data() function from the brca object to examine the different data contained in the brca object. Much like calling functions from a package, we can use the brca.function() syntax.\n",
    "\n",
    "* How many patients do you think there are in this dataset? (Make an educated guess about this from the dimensions - we'll confirm your answer later on)"
   ]
  },
  {
   "cell_type": "code",
   "execution_count": 5,
   "id": "f96afeaf",
   "metadata": {},
   "outputs": [
    {
     "name": "stdout",
     "output_type": "stream",
     "text": [
      "Below are the dataframes contained in this dataset and their dimensions:\n",
      "\n",
      "acetylproteomics\n",
      "\t122 rows\n",
      "\t9868 columns\n",
      "clinical\n",
      "\t122 rows\n",
      "\t18 columns\n",
      "CNV\n",
      "\t122 rows\n",
      "\t23692 columns\n",
      "derived_molecular\n",
      "\t122 rows\n",
      "\t36 columns\n",
      "phosphoproteomics\n",
      "\t122 rows\n",
      "\t38775 columns\n",
      "proteomics\n",
      "\t122 rows\n",
      "\t10107 columns\n",
      "somatic_mutation\n",
      "\t24106 rows\n",
      "\t3 columns\n",
      "transcriptomics\n",
      "\t122 rows\n",
      "\t23121 columns\n"
     ]
    }
   ],
   "source": [
    "# Run the list_data() function\n",
    "brca.list_data()"
   ]
  },
  {
   "cell_type": "markdown",
   "id": "ab6034bd",
   "metadata": {},
   "source": [
    "**Exercise 1.2** Use the get_proteomics() function to store the proteomics data into a new data frame."
   ]
  },
  {
   "cell_type": "code",
   "execution_count": 20,
   "id": "2f7abc05",
   "metadata": {},
   "outputs": [
    {
     "data": {
      "text/html": [
       "<div>\n",
       "<style scoped>\n",
       "    .dataframe tbody tr th:only-of-type {\n",
       "        vertical-align: middle;\n",
       "    }\n",
       "\n",
       "    .dataframe tbody tr th {\n",
       "        vertical-align: top;\n",
       "    }\n",
       "\n",
       "    .dataframe thead th {\n",
       "        text-align: right;\n",
       "    }\n",
       "</style>\n",
       "<table border=\"1\" class=\"dataframe\">\n",
       "  <thead>\n",
       "    <tr style=\"text-align: right;\">\n",
       "      <th>Name</th>\n",
       "      <th>A1BG</th>\n",
       "      <th>A2M</th>\n",
       "      <th>A2ML1</th>\n",
       "      <th>AAAS</th>\n",
       "      <th>AACS</th>\n",
       "      <th>AADAT</th>\n",
       "      <th>AAED1</th>\n",
       "      <th>AAGAB</th>\n",
       "      <th>AAK1</th>\n",
       "      <th>AAMDC</th>\n",
       "      <th>...</th>\n",
       "      <th>ZSCAN31</th>\n",
       "      <th>ZSWIM8</th>\n",
       "      <th>ZW10</th>\n",
       "      <th>ZWILCH</th>\n",
       "      <th>ZWINT</th>\n",
       "      <th>ZXDC</th>\n",
       "      <th>ZYG11B</th>\n",
       "      <th>ZYX</th>\n",
       "      <th>ZZEF1</th>\n",
       "      <th>ZZZ3</th>\n",
       "    </tr>\n",
       "    <tr>\n",
       "      <th>Patient_ID</th>\n",
       "      <th></th>\n",
       "      <th></th>\n",
       "      <th></th>\n",
       "      <th></th>\n",
       "      <th></th>\n",
       "      <th></th>\n",
       "      <th></th>\n",
       "      <th></th>\n",
       "      <th></th>\n",
       "      <th></th>\n",
       "      <th></th>\n",
       "      <th></th>\n",
       "      <th></th>\n",
       "      <th></th>\n",
       "      <th></th>\n",
       "      <th></th>\n",
       "      <th></th>\n",
       "      <th></th>\n",
       "      <th></th>\n",
       "      <th></th>\n",
       "      <th></th>\n",
       "    </tr>\n",
       "  </thead>\n",
       "  <tbody>\n",
       "    <tr>\n",
       "      <th>CPT000814</th>\n",
       "      <td>-0.6712</td>\n",
       "      <td>-0.2075</td>\n",
       "      <td>2.7959</td>\n",
       "      <td>1.3969</td>\n",
       "      <td>-1.0899</td>\n",
       "      <td>NaN</td>\n",
       "      <td>1.6708</td>\n",
       "      <td>-0.3484</td>\n",
       "      <td>-0.4756</td>\n",
       "      <td>-0.7299</td>\n",
       "      <td>...</td>\n",
       "      <td>-5.2868</td>\n",
       "      <td>-0.6536</td>\n",
       "      <td>0.3384</td>\n",
       "      <td>2.1169</td>\n",
       "      <td>1.3910</td>\n",
       "      <td>-2.1230</td>\n",
       "      <td>0.9136</td>\n",
       "      <td>-0.8082</td>\n",
       "      <td>-1.4793</td>\n",
       "      <td>0.9136</td>\n",
       "    </tr>\n",
       "    <tr>\n",
       "      <th>CPT001846</th>\n",
       "      <td>1.3964</td>\n",
       "      <td>1.3302</td>\n",
       "      <td>-5.0948</td>\n",
       "      <td>0.7674</td>\n",
       "      <td>-1.6845</td>\n",
       "      <td>NaN</td>\n",
       "      <td>2.1022</td>\n",
       "      <td>-0.5814</td>\n",
       "      <td>0.2916</td>\n",
       "      <td>-2.2857</td>\n",
       "      <td>...</td>\n",
       "      <td>-0.7592</td>\n",
       "      <td>0.4711</td>\n",
       "      <td>0.6018</td>\n",
       "      <td>0.2062</td>\n",
       "      <td>-0.2137</td>\n",
       "      <td>-2.1219</td>\n",
       "      <td>0.0860</td>\n",
       "      <td>2.5814</td>\n",
       "      <td>-0.2852</td>\n",
       "      <td>-0.1074</td>\n",
       "    </tr>\n",
       "    <tr>\n",
       "      <th>X01BR001</th>\n",
       "      <td>2.0219</td>\n",
       "      <td>1.6269</td>\n",
       "      <td>-3.2943</td>\n",
       "      <td>0.3352</td>\n",
       "      <td>-1.0739</td>\n",
       "      <td>1.2255</td>\n",
       "      <td>0.2754</td>\n",
       "      <td>-1.1187</td>\n",
       "      <td>-0.0534</td>\n",
       "      <td>-0.2519</td>\n",
       "      <td>...</td>\n",
       "      <td>NaN</td>\n",
       "      <td>0.2306</td>\n",
       "      <td>-0.3010</td>\n",
       "      <td>0.3395</td>\n",
       "      <td>-0.5316</td>\n",
       "      <td>NaN</td>\n",
       "      <td>0.4996</td>\n",
       "      <td>0.7622</td>\n",
       "      <td>-1.5607</td>\n",
       "      <td>0.0256</td>\n",
       "    </tr>\n",
       "    <tr>\n",
       "      <th>X01BR008</th>\n",
       "      <td>-0.5290</td>\n",
       "      <td>0.3267</td>\n",
       "      <td>1.4342</td>\n",
       "      <td>0.4938</td>\n",
       "      <td>-2.8676</td>\n",
       "      <td>NaN</td>\n",
       "      <td>NaN</td>\n",
       "      <td>-1.0691</td>\n",
       "      <td>-0.3643</td>\n",
       "      <td>-1.8173</td>\n",
       "      <td>...</td>\n",
       "      <td>-2.1789</td>\n",
       "      <td>0.2695</td>\n",
       "      <td>0.1506</td>\n",
       "      <td>1.0498</td>\n",
       "      <td>0.7546</td>\n",
       "      <td>1.7889</td>\n",
       "      <td>-0.2499</td>\n",
       "      <td>-0.2590</td>\n",
       "      <td>-0.1263</td>\n",
       "      <td>0.3725</td>\n",
       "    </tr>\n",
       "    <tr>\n",
       "      <th>X01BR009</th>\n",
       "      <td>1.2556</td>\n",
       "      <td>3.4489</td>\n",
       "      <td>2.8043</td>\n",
       "      <td>-0.2956</td>\n",
       "      <td>-1.7261</td>\n",
       "      <td>NaN</td>\n",
       "      <td>NaN</td>\n",
       "      <td>-2.0471</td>\n",
       "      <td>-0.3547</td>\n",
       "      <td>-0.8298</td>\n",
       "      <td>...</td>\n",
       "      <td>-2.3990</td>\n",
       "      <td>-0.2596</td>\n",
       "      <td>0.1898</td>\n",
       "      <td>-0.5010</td>\n",
       "      <td>-0.4189</td>\n",
       "      <td>0.3080</td>\n",
       "      <td>0.5057</td>\n",
       "      <td>0.2181</td>\n",
       "      <td>-0.2288</td>\n",
       "      <td>-0.2750</td>\n",
       "    </tr>\n",
       "    <tr>\n",
       "      <th>...</th>\n",
       "      <td>...</td>\n",
       "      <td>...</td>\n",
       "      <td>...</td>\n",
       "      <td>...</td>\n",
       "      <td>...</td>\n",
       "      <td>...</td>\n",
       "      <td>...</td>\n",
       "      <td>...</td>\n",
       "      <td>...</td>\n",
       "      <td>...</td>\n",
       "      <td>...</td>\n",
       "      <td>...</td>\n",
       "      <td>...</td>\n",
       "      <td>...</td>\n",
       "      <td>...</td>\n",
       "      <td>...</td>\n",
       "      <td>...</td>\n",
       "      <td>...</td>\n",
       "      <td>...</td>\n",
       "      <td>...</td>\n",
       "      <td>...</td>\n",
       "    </tr>\n",
       "    <tr>\n",
       "      <th>X21BR001</th>\n",
       "      <td>-0.6610</td>\n",
       "      <td>-0.6402</td>\n",
       "      <td>-4.8578</td>\n",
       "      <td>1.2319</td>\n",
       "      <td>-1.6491</td>\n",
       "      <td>NaN</td>\n",
       "      <td>NaN</td>\n",
       "      <td>-0.3074</td>\n",
       "      <td>-0.3074</td>\n",
       "      <td>-0.0266</td>\n",
       "      <td>...</td>\n",
       "      <td>-0.2528</td>\n",
       "      <td>0.5090</td>\n",
       "      <td>0.0306</td>\n",
       "      <td>0.4908</td>\n",
       "      <td>-0.5570</td>\n",
       "      <td>2.3864</td>\n",
       "      <td>0.3764</td>\n",
       "      <td>-0.6974</td>\n",
       "      <td>1.3541</td>\n",
       "      <td>1.1123</td>\n",
       "    </tr>\n",
       "    <tr>\n",
       "      <th>X21BR002</th>\n",
       "      <td>-1.3735</td>\n",
       "      <td>0.4227</td>\n",
       "      <td>-4.9553</td>\n",
       "      <td>0.6327</td>\n",
       "      <td>-3.1434</td>\n",
       "      <td>NaN</td>\n",
       "      <td>NaN</td>\n",
       "      <td>0.3071</td>\n",
       "      <td>0.7562</td>\n",
       "      <td>-1.6912</td>\n",
       "      <td>...</td>\n",
       "      <td>-3.3351</td>\n",
       "      <td>0.1548</td>\n",
       "      <td>1.0792</td>\n",
       "      <td>-0.6619</td>\n",
       "      <td>-1.4444</td>\n",
       "      <td>-0.3704</td>\n",
       "      <td>0.4909</td>\n",
       "      <td>0.3938</td>\n",
       "      <td>0.2992</td>\n",
       "      <td>-0.3494</td>\n",
       "    </tr>\n",
       "    <tr>\n",
       "      <th>X21BR010</th>\n",
       "      <td>1.1583</td>\n",
       "      <td>0.3329</td>\n",
       "      <td>-5.7358</td>\n",
       "      <td>-0.1658</td>\n",
       "      <td>-2.0413</td>\n",
       "      <td>-1.2433</td>\n",
       "      <td>0.9090</td>\n",
       "      <td>-0.2410</td>\n",
       "      <td>0.6717</td>\n",
       "      <td>-0.1651</td>\n",
       "      <td>...</td>\n",
       "      <td>-0.7054</td>\n",
       "      <td>0.2752</td>\n",
       "      <td>0.8850</td>\n",
       "      <td>-2.6704</td>\n",
       "      <td>-0.9444</td>\n",
       "      <td>-1.9717</td>\n",
       "      <td>0.0650</td>\n",
       "      <td>0.6300</td>\n",
       "      <td>-0.0686</td>\n",
       "      <td>0.1798</td>\n",
       "    </tr>\n",
       "    <tr>\n",
       "      <th>X22BR005</th>\n",
       "      <td>0.4948</td>\n",
       "      <td>-1.0986</td>\n",
       "      <td>-8.8314</td>\n",
       "      <td>0.2826</td>\n",
       "      <td>-1.0123</td>\n",
       "      <td>-2.5732</td>\n",
       "      <td>5.7567</td>\n",
       "      <td>1.7644</td>\n",
       "      <td>0.5415</td>\n",
       "      <td>0.1531</td>\n",
       "      <td>...</td>\n",
       "      <td>-0.3936</td>\n",
       "      <td>-0.0340</td>\n",
       "      <td>-0.9367</td>\n",
       "      <td>-0.1922</td>\n",
       "      <td>1.2572</td>\n",
       "      <td>1.3220</td>\n",
       "      <td>-1.0698</td>\n",
       "      <td>0.4012</td>\n",
       "      <td>-0.3792</td>\n",
       "      <td>1.2752</td>\n",
       "    </tr>\n",
       "    <tr>\n",
       "      <th>X22BR006</th>\n",
       "      <td>0.5049</td>\n",
       "      <td>-0.6582</td>\n",
       "      <td>-7.4699</td>\n",
       "      <td>0.6570</td>\n",
       "      <td>-0.7239</td>\n",
       "      <td>NaN</td>\n",
       "      <td>0.6420</td>\n",
       "      <td>2.2376</td>\n",
       "      <td>-0.7597</td>\n",
       "      <td>0.1589</td>\n",
       "      <td>...</td>\n",
       "      <td>0.5526</td>\n",
       "      <td>0.3468</td>\n",
       "      <td>1.0655</td>\n",
       "      <td>-1.2607</td>\n",
       "      <td>-2.2866</td>\n",
       "      <td>1.0775</td>\n",
       "      <td>-0.1334</td>\n",
       "      <td>2.5269</td>\n",
       "      <td>1.4294</td>\n",
       "      <td>0.4542</td>\n",
       "    </tr>\n",
       "  </tbody>\n",
       "</table>\n",
       "<p>122 rows × 10107 columns</p>\n",
       "</div>"
      ],
      "text/plain": [
       "Name          A1BG     A2M   A2ML1    AAAS    AACS   AADAT   AAED1   AAGAB  \\\n",
       "Patient_ID                                                                   \n",
       "CPT000814  -0.6712 -0.2075  2.7959  1.3969 -1.0899     NaN  1.6708 -0.3484   \n",
       "CPT001846   1.3964  1.3302 -5.0948  0.7674 -1.6845     NaN  2.1022 -0.5814   \n",
       "X01BR001    2.0219  1.6269 -3.2943  0.3352 -1.0739  1.2255  0.2754 -1.1187   \n",
       "X01BR008   -0.5290  0.3267  1.4342  0.4938 -2.8676     NaN     NaN -1.0691   \n",
       "X01BR009    1.2556  3.4489  2.8043 -0.2956 -1.7261     NaN     NaN -2.0471   \n",
       "...            ...     ...     ...     ...     ...     ...     ...     ...   \n",
       "X21BR001   -0.6610 -0.6402 -4.8578  1.2319 -1.6491     NaN     NaN -0.3074   \n",
       "X21BR002   -1.3735  0.4227 -4.9553  0.6327 -3.1434     NaN     NaN  0.3071   \n",
       "X21BR010    1.1583  0.3329 -5.7358 -0.1658 -2.0413 -1.2433  0.9090 -0.2410   \n",
       "X22BR005    0.4948 -1.0986 -8.8314  0.2826 -1.0123 -2.5732  5.7567  1.7644   \n",
       "X22BR006    0.5049 -0.6582 -7.4699  0.6570 -0.7239     NaN  0.6420  2.2376   \n",
       "\n",
       "Name          AAK1   AAMDC  ...  ZSCAN31  ZSWIM8    ZW10  ZWILCH   ZWINT  \\\n",
       "Patient_ID                  ...                                            \n",
       "CPT000814  -0.4756 -0.7299  ...  -5.2868 -0.6536  0.3384  2.1169  1.3910   \n",
       "CPT001846   0.2916 -2.2857  ...  -0.7592  0.4711  0.6018  0.2062 -0.2137   \n",
       "X01BR001   -0.0534 -0.2519  ...      NaN  0.2306 -0.3010  0.3395 -0.5316   \n",
       "X01BR008   -0.3643 -1.8173  ...  -2.1789  0.2695  0.1506  1.0498  0.7546   \n",
       "X01BR009   -0.3547 -0.8298  ...  -2.3990 -0.2596  0.1898 -0.5010 -0.4189   \n",
       "...            ...     ...  ...      ...     ...     ...     ...     ...   \n",
       "X21BR001   -0.3074 -0.0266  ...  -0.2528  0.5090  0.0306  0.4908 -0.5570   \n",
       "X21BR002    0.7562 -1.6912  ...  -3.3351  0.1548  1.0792 -0.6619 -1.4444   \n",
       "X21BR010    0.6717 -0.1651  ...  -0.7054  0.2752  0.8850 -2.6704 -0.9444   \n",
       "X22BR005    0.5415  0.1531  ...  -0.3936 -0.0340 -0.9367 -0.1922  1.2572   \n",
       "X22BR006   -0.7597  0.1589  ...   0.5526  0.3468  1.0655 -1.2607 -2.2866   \n",
       "\n",
       "Name          ZXDC  ZYG11B     ZYX   ZZEF1    ZZZ3  \n",
       "Patient_ID                                          \n",
       "CPT000814  -2.1230  0.9136 -0.8082 -1.4793  0.9136  \n",
       "CPT001846  -2.1219  0.0860  2.5814 -0.2852 -0.1074  \n",
       "X01BR001       NaN  0.4996  0.7622 -1.5607  0.0256  \n",
       "X01BR008    1.7889 -0.2499 -0.2590 -0.1263  0.3725  \n",
       "X01BR009    0.3080  0.5057  0.2181 -0.2288 -0.2750  \n",
       "...            ...     ...     ...     ...     ...  \n",
       "X21BR001    2.3864  0.3764 -0.6974  1.3541  1.1123  \n",
       "X21BR002   -0.3704  0.4909  0.3938  0.2992 -0.3494  \n",
       "X21BR010   -1.9717  0.0650  0.6300 -0.0686  0.1798  \n",
       "X22BR005    1.3220 -1.0698  0.4012 -0.3792  1.2752  \n",
       "X22BR006    1.0775 -0.1334  2.5269  1.4294  0.4542  \n",
       "\n",
       "[122 rows x 10107 columns]"
      ]
     },
     "execution_count": 20,
     "metadata": {},
     "output_type": "execute_result"
    }
   ],
   "source": [
    "protein_data = brca.get_proteomics() # get the proteomics data\n",
    "protein_data # view the data\n",
    "\n",
    "\n",
    "# Uncomment and run this command after you get the data, you don't really need to know what it does but it collapses\n",
    "# the column names and gets rid of the database_IDs which will make our lives much easier!\n",
    "\n",
    "# protein_data.columns = protein_data.columns.get_level_values(0) \n",
    "\n",
    "protein_data.columns = protein_data.columns.get_level_values(0) \n",
    "protein_data"
   ]
  },
  {
   "cell_type": "markdown",
   "id": "1188f104",
   "metadata": {},
   "source": [
    "## (2) Exploring the Data\n",
    "\n",
    "As mentioned earlier, `cptac` data is in the form of `pandas` dataframes. Let's load that and `numpy`. \n",
    "\n",
    "**Exercise 2.1** Import numpy and pandas with their usual shortened names (pd and np)."
   ]
  },
  {
   "cell_type": "code",
   "execution_count": null,
   "id": "8ace4453",
   "metadata": {
    "scrolled": true
   },
   "outputs": [],
   "source": [
    "# import packages here"
   ]
  },
  {
   "cell_type": "markdown",
   "id": "2b18a548",
   "metadata": {},
   "source": [
    "Remember that we can access the rows/column names of a data frame in two ways:\n",
    "1. We can get the row and column names together in a list with the `axes` attribute.\n",
    "2. We can get the row or column names individually in the `index` (row) or `columns` (column) attribute.\n",
    "<br></br>\n",
    "**Exercise 2.2** Print the axes, index, and columns of the protein_data object. Then, determine its dimensions using the shape attribute. Finally, answer the following questions:\n",
    "\n",
    "* How many rows and columns are there in the data frame?\n",
    "* What do the rows and columns represent?\n",
    "* How many patients are there?\n",
    "* What about proteins?"
   ]
  },
  {
   "cell_type": "code",
   "execution_count": null,
   "id": "1501f26c",
   "metadata": {},
   "outputs": [],
   "source": [
    "## Explore the data frame here and answer questions"
   ]
  },
  {
   "cell_type": "markdown",
   "id": "6db06758",
   "metadata": {},
   "source": [
    "Remember we can access data by name using `.loc[]` and `.iloc[]`. Since this dataset is really large, we won't really use `.iloc[]` which accesses by index. To get the protein expression information for a specific patient, therefore, we would run something like this: "
   ]
  },
  {
   "cell_type": "code",
   "execution_count": null,
   "id": "5158710b",
   "metadata": {},
   "outputs": [],
   "source": [
    "protein_data.loc[\"patient ID\",\"protein name\"] # this is the general case, you have to fill in actual IDs/protein names"
   ]
  },
  {
   "cell_type": "markdown",
   "id": "0c4e080d",
   "metadata": {},
   "source": [
    "**Exercise 2.3** Remember that the numerical data in CPTAC is the relative fold change, not an absolute value/count. Given this, what kind of number would represent lower relative expression? What kind of number would represent higher relative expression? (Hint: reference level is 0) "
   ]
  },
  {
   "cell_type": "code",
   "execution_count": null,
   "id": "98e77185",
   "metadata": {},
   "outputs": [],
   "source": [
    "## Answer question in comment form here"
   ]
  },
  {
   "cell_type": "markdown",
   "id": "ccdaaa65",
   "metadata": {},
   "source": [
    "**Exericse 2.4**\n",
    "\n",
    "Print the relative fold change of patient `X01BR008` in the `TP53` protein. Then, interpret this value -- does this patient have higher or lower protein levels than the reference? (Hint: use .loc[] and remember that a `:` can be used in either the row or column slot to access every row or every column.)\n"
   ]
  },
  {
   "cell_type": "code",
   "execution_count": null,
   "id": "112a5055",
   "metadata": {},
   "outputs": [],
   "source": [
    "## write code here"
   ]
  },
  {
   "cell_type": "markdown",
   "id": "e66937a6",
   "metadata": {},
   "source": [
    "### Using Boolean indexing\n",
    "\n",
    "In R, we used the `ifelse()` function very heavily to assign categories, such as classifying patients as \"old\" or \"young\". In Python, we have the `where(COND, TRUE_VAL, FALSE_VAL)` function from numpy, which works extremely similarly to ifelse(). That is:\n",
    "\n",
    "   1. The first parameter is the condition (a boolean vector; i.e. Trues and Falses).\n",
    "   2. The second parameter is the value to fill the True conditions.\n",
    "   3. The third parameter is the value to fil lthe False conditions.\n",
    "    \n",
    "The following example (split into the four code blocks below) shows how to apply the `where()` function, in the context of telling if a number is odd or even."
   ]
  },
  {
   "cell_type": "code",
   "execution_count": null,
   "id": "877c4f62",
   "metadata": {
    "scrolled": true
   },
   "outputs": [],
   "source": [
    "# first let's create our example array\n",
    "\n",
    "number_example_array = pd.DataFrame({\"nums\": [0, 1, 2, 3, 4, 5]})\n",
    "number_example_array"
   ]
  },
  {
   "cell_type": "code",
   "execution_count": null,
   "id": "877ea8ef",
   "metadata": {},
   "outputs": [],
   "source": [
    "# now, let's make a boolean vector where odds will be True, evens will be False\n",
    "boolean_vector = (number_example_array % 2 == 1)\n",
    "boolean_vector"
   ]
  },
  {
   "cell_type": "code",
   "execution_count": null,
   "id": "11f0d23e",
   "metadata": {},
   "outputs": [],
   "source": [
    "# then add this vector as a column in our array (we could do this and the above in one step)\n",
    "number_example_array[\"boolean_vector\"] = boolean_vector\n",
    "number_example_array"
   ]
  },
  {
   "cell_type": "code",
   "execution_count": null,
   "id": "e85d10e5",
   "metadata": {},
   "outputs": [],
   "source": [
    "# lastly, let's add a third column called \"parity\" that says based off of \"boolean_vector\" if our value is odd/even\n",
    "number_example_array[\"parity\"] = np.where(boolean_vector, \"Odd\", \"Even\")\n",
    "number_example_array"
   ]
  },
  {
   "cell_type": "markdown",
   "id": "3ae3e913",
   "metadata": {},
   "source": [
    "**Exercise 2.5** Access the following:\n",
    "\n",
    "1. Use boolean indexing to access the patient IDs with high (≥1) `TP53` expression. Save this in a pandas DataFrame called `high_TP53`. HINTS:\n",
    "    * Think about if protein expression information will be contained in a row or a column!\n",
    "    * Create a boolean mask with the row/column that contains the expression information of `TP53`.\n",
    "    * Apply the mask to the row/column names that contains the patient IDs.\n",
    "2. How many patients are there in `high_TP53`? Which axis (columns or rows) represents proteins?\n",
    "3. Add a column to `high_TP53` that has the values \"High\"/\"Average\"/\"Low\" based on ARF1 expression.\n",
    "4. How many patients have high expression of both `TP53` and average expression of `ARF1`?"
   ]
  },
  {
   "cell_type": "code",
   "execution_count": null,
   "id": "d71d7b15",
   "metadata": {},
   "outputs": [],
   "source": [
    "# write code here"
   ]
  },
  {
   "cell_type": "markdown",
   "id": "5e91a353",
   "metadata": {},
   "source": [
    "## (3) Additional data in CPTAC\n",
    "\n",
    "You can also access other data using the `cptac` python package for the same patients, using the corresponding get function.\n",
    "\n",
    "**Exercise 3.1** Access the RNA (transcriptomics) and clinical data from the brca object. The function name is very similar in syntax to the get_proteomics() function from before!"
   ]
  },
  {
   "cell_type": "code",
   "execution_count": 7,
   "id": "26ae7024",
   "metadata": {},
   "outputs": [],
   "source": [
    "rna_data = brca.get_transcriptomics()\n",
    "clinical_data = brca.get_clinical()"
   ]
  },
  {
   "cell_type": "markdown",
   "id": "7d217ca6",
   "metadata": {},
   "source": [
    "**Exercise 3.2** Examine these dataframes. In particular:\n",
    "\n",
    "* What do the values in the rna_data data frame represent?\n",
    "* Compare the dimensions of the high_TP53, rna_data, and clinical_data. Are they equal?"
   ]
  },
  {
   "cell_type": "code",
   "execution_count": null,
   "id": "0ef35657",
   "metadata": {},
   "outputs": [],
   "source": [
    "# explore the data frames using shape, axes, and other functions we've gone over."
   ]
  },
  {
   "cell_type": "markdown",
   "id": "67f6107d",
   "metadata": {},
   "source": [
    "The dimensions for each dataframe might not be equal depending on if you masked some patients. That's where the `intersect1d()` function from numpy becomes really useful, especially if we want to analyze transcriptomics, proteomics, and clinical data together. This lets us see which patient barcodes are shared between the data frames.\n",
    "\n",
    "\n",
    "Let's take a look at all of the patients who are older than 50 years old at the time of diagnosis. \n",
    "<br></br>\n",
    "**Exercise 3.3**\n",
    "1.  Use the clinical data DataFrame to create a boolean mask for the condition of patients being older than 50.\n",
    "2.  Mask the clinical data and assign it to a DataFrame called 'masked_clinical'."
   ]
  },
  {
   "cell_type": "code",
   "execution_count": null,
   "id": "27343c31",
   "metadata": {},
   "outputs": [],
   "source": [
    "# write code here"
   ]
  },
  {
   "cell_type": "markdown",
   "id": "d356f73c",
   "metadata": {},
   "source": [
    "Now that we have masked our data, if we tried to do an analysis using the different data frames, we would get a lot of errors since we are now missing some patients in our masked_clinical data frame. If we want to get the patients who are present in the masked data as well as the rna_data and protein_data, we can use intersect1d().\n",
    "\n",
    "**Exercise 3.4**\n",
    "1. Use `intersect1d()` from np to create a list that contains the patient IDs for each pair of data frames as mentioned below. (Hint: this function takes two 1d arrays, which would be patient IDs from two different dataframes. How do we get this from each dataframe? Are patient IDs rows or columns?) \n",
    "2. Use a for loop to print the lengths of these three data frames, and compare them to the number of rows. The for loop skeleton is below. What do you notice about the three lengths? Do the numbers correspond to anything in particular?\n",
    "3. Finally, identify which intersection contains the patient IDs where there is data for all three levels of data (proteomics, transcriptomics, and clinical). How can we tell?"
   ]
  },
  {
   "cell_type": "code",
   "execution_count": null,
   "id": "6daf99fa",
   "metadata": {},
   "outputs": [],
   "source": [
    "# 1.\n",
    "name_intersects = [\n",
    "    , # 0. fill in intersecting for protein/rna here using intersect1d()\n",
    "    , # 1. fill in intersecting for protein/masked clinical here\n",
    "    , # 2. fill in the intersecting for rna/masked clinical here\n",
    "]\n",
    "\n",
    "# 2. Print the lengths here\n",
    "# write a for loop here\n",
    "    print(f\"The length of ____ is _____\")  # fill in here\n",
    "    \n",
    "# 3. Which comparison(s) contain the patient names that have all three levels?"
   ]
  },
  {
   "cell_type": "markdown",
   "id": "f34fa008",
   "metadata": {},
   "source": [
    "## (4) Examining the Clinical Data"
   ]
  },
  {
   "cell_type": "markdown",
   "id": "1c16ae96",
   "metadata": {},
   "source": [
    "Let's explore the clinical data in more detail.\n",
    "\n",
    "First, use head() to glance as to what data is available."
   ]
  },
  {
   "cell_type": "code",
   "execution_count": null,
   "id": "60fe1771",
   "metadata": {},
   "outputs": [],
   "source": [
    "# write code here"
   ]
  },
  {
   "cell_type": "markdown",
   "id": "77030e93",
   "metadata": {},
   "source": [
    "**Exercise 4.1** You might notice that the Age column values don't look like years -- they're in months. Create a new column called \"Age\" with the \"Age.in.Month\" values / 12. Then, use head() again to make sure the ages were converted."
   ]
  },
  {
   "cell_type": "code",
   "execution_count": null,
   "id": "e2b7a6d2",
   "metadata": {},
   "outputs": [],
   "source": [
    "# convert ages here!"
   ]
  },
  {
   "cell_type": "markdown",
   "id": "a7e704a4",
   "metadata": {},
   "source": [
    "There are actually control (non-cancer) tissue samples in some datasets. Let's determine whether we need to account for this in our dataset this using the unique() function from numpy.\n",
    "\n",
    "__Exercise 4.2__ Call the unique() function on the Sample_Tumor_Normal column. The function will return the unique values in the column in a sorted order -- this is super useful for examining categorical variables, like tumor stage and tumor status, for example."
   ]
  },
  {
   "cell_type": "code",
   "execution_count": null,
   "id": "5b56fa09",
   "metadata": {},
   "outputs": [],
   "source": [
    "# Get the levels of the Sample_Tumor_Normal column with unique()"
   ]
  },
  {
   "cell_type": "markdown",
   "id": "5b1338d1",
   "metadata": {},
   "source": [
    "__Exercise 4.3__ Let's examine how tumor stage varies as a function of age:\n",
    "\n",
    "   1. Import the plotting libraries matplotlib.pyplot and seaborn (use the standard abbreviations presented last time, seaborn is sns).\n",
    "   2. Create an age_category column in clinical_data. Define \"Young\" as under the median age, and \"Old\" as the median age and older. (Hint: use the where() function from numpy, the equivalent to ifelse()).\n",
    "   3. The \"Stage\" information for soome of these patients is NaN (the pandas version of NA). Use the isna() function from pandas and boolean indexing (i.e. where() from numpy again) to remove any patients with NaN values in \"Stage\".\n",
    "   4. Using nested for loop and boolean indexing, count the number of old and young patients that have Stage I, Stage II, Stage III, and Stage IV cancer.\n",
    "   5. Use the skeleton code to draw the barplot. Do your numbers make sense?"
   ]
  },
  {
   "cell_type": "code",
   "execution_count": null,
   "id": "3d9b0202",
   "metadata": {},
   "outputs": [],
   "source": [
    "# 1. Import libraries here\n",
    "\n",
    "\n",
    "# 2. Create the age_category column in clinical_data\n",
    "\n",
    "\n",
    "# 3. Filter our NaN\n",
    "\n",
    "\n",
    "\n",
    "## this will programatically get all the stages in order\n",
    "stage_categories = np.unique(clinical_data.loc[:, 'Stage'])\n",
    "assert(np.all(stage_categories == ['Stage IA', 'Stage IIA', 'Stage IIB',\n",
    "                                    'Stage III', 'Stage IIIA', 'Stage IIIB', 'Stage IIIC']))\n",
    "\n",
    "# 4. Loop through all the stage categories and count\n",
    "\n",
    "for age_cat in [\"Old\", \"Young\"]: # first get the old data, then the young data\n",
    "    print(age_cat)\n",
    "    # fill this in with the cancer category:\n",
    "    for ...:\n",
    "        # 1. create a subset of the data frame with the old/young patients\n",
    "        # 2. count the number of patients with the stage of cancer and print\n",
    "\n",
    "\n",
    "        \n",
    "# 5. Create a barplot to compare your results\n",
    "sns.countplot(\n",
    "    x = \"age_category\",\n",
    "    hue = \"Stage\",\n",
    "    hue_order = stage_categories,\n",
    "    data = INSERT HERE\n",
    ")\n",
    "\n",
    "plt.show()"
   ]
  },
  {
   "cell_type": "markdown",
   "id": "c5b41b9e",
   "metadata": {},
   "source": [
    "## (5) Plotting Proteomic Data"
   ]
  },
  {
   "cell_type": "markdown",
   "id": "456a052b",
   "metadata": {},
   "source": [
    "Let's explore how the proteomic expression of a gene differs between young and old patients.\n",
    "\n",
    "**Exercise 5.1** Plot the expression data of a chosen protein stratified between patients older and younger than the median age."
   ]
  },
  {
   "cell_type": "code",
   "execution_count": null,
   "id": "73359e8c",
   "metadata": {},
   "outputs": [],
   "source": [
    "young_mask = FILL IN HERE # the age column is 'Age.in.Month', which (as stated) is in months\n",
    "old_mask = FILL IN HERE\n",
    "\n",
    "young = (protein_data.loc[FILL IN HERE]).dropna()\n",
    "old = (protein_data.loc[FILL IN HERE]).dropna()\n",
    "\n",
    "data = [old.values, young.values] # our boxplot function will require an array (or an array of arrays)\n",
    "data"
   ]
  },
  {
   "cell_type": "code",
   "execution_count": null,
   "id": "01ad52bc",
   "metadata": {},
   "outputs": [],
   "source": [
    "fig, ax = plt.subplots()\n",
    "\n",
    "plt.axhline(y = 0, color = 'blue', linestyle = '-')\n",
    "plt.axhline(y = -1, color = 'blue', linestyle = ':')\n",
    "plt.axhline(y = 1, color = 'blue', linestyle = ':')\n",
    "\n",
    "\n",
    "bp = ax.boxplot(FILL IN HERE) # data goes here\n",
    "plt.xticks([1, 2], [\"FILL IN HERE\", \"FILL IN HERE\"]) # use \\n for new line if desired\n",
    "\n",
    "\n",
    "plt.show()"
   ]
  },
  {
   "cell_type": "markdown",
   "id": "25e3f44f",
   "metadata": {},
   "source": [
    "**Exercise 5.2** Why do you think we added lines at -1, 0, and 1? What do these values represent in terms of log2FoldChange?"
   ]
  },
  {
   "cell_type": "code",
   "execution_count": null,
   "id": "73715440",
   "metadata": {},
   "outputs": [],
   "source": [
    "# answer in a comment here"
   ]
  },
  {
   "cell_type": "markdown",
   "id": "fa7c2940",
   "metadata": {},
   "source": [
    "## (6) SciPy\n",
    "Another question to ask is if the levels of RNA expression correlate with protein expression. While we would expect for there to be a 1:1 relationship between RNA and protein (according to the central dogma), as you will see, this is not what we oftentimes observe."
   ]
  },
  {
   "cell_type": "code",
   "execution_count": null,
   "id": "f5be4586",
   "metadata": {},
   "outputs": [],
   "source": [
    "from scipy import stats # we are using the stats package in particular"
   ]
  },
  {
   "cell_type": "markdown",
   "id": "6d033105",
   "metadata": {},
   "source": [
    "The first thing we need to do is to identify which patients and genes are shared between the transcriptomic and proteomic data sets.\n",
    "\n",
    "Luckily for us, all 122 patients in the Brca dataset have clinical, transcriptomic, and proteomic data. If this were not the case (such as in the colon cancer database), we would use intersect1d() to fix this. We will still need to use intersect1d() to determine which genes are shared.\n",
    "\n",
    "**Exercise 6.1** To make sure the data frames match:\n",
    "\n",
    "1. Identify the names of the genes that are shared between the two datasets (hint: use intersect1d()). Is this data the row or column names?\n",
    "2. Create the rna_shared and prot_shared data frames; ie dataframes with only genes that are shared between rna and protein data. (Hint: how can we access rows/columns by name?)."
   ]
  },
  {
   "cell_type": "code",
   "execution_count": null,
   "id": "a5cf7b19",
   "metadata": {},
   "outputs": [],
   "source": [
    "# 1. Identify the genes (RNA, protein) shared between the two data sets \n",
    "shared_rna_prot = FILL IN HERE\n",
    "\n",
    "# 2. Create the two data frames\n",
    "rna_shared = FILL IN HERE\n",
    "prot_shared = FILL IN HERE"
   ]
  },
  {
   "cell_type": "markdown",
   "id": "7a365ac5",
   "metadata": {},
   "source": [
    "Now, we can see how correlated the RNA and protein levels are. We'll use Spearman correlation from the stats library, which is spearmanr().\n",
    "\n",
    "**Exercise 6.2** Choose a gene and get the Spearman correlation of the rna to protein of that gene."
   ]
  },
  {
   "cell_type": "code",
   "execution_count": null,
   "id": "ffc0f52b",
   "metadata": {},
   "outputs": [],
   "source": [
    "# we need the nan_policy=\"omit\" to throw out NaN values\n",
    "corr, pval = stats.spearmanr(rna_shared[\"FILL IN HERE\"], prot_shared[\"FILL IN HERE\"], nan_policy=\"omit\")\n",
    "\n",
    "print(f\"The correlation of FILL IN HERE is {round(corr, 3)} (p = {round(pval, 10)}).\")"
   ]
  },
  {
   "cell_type": "markdown",
   "id": "21464da2",
   "metadata": {},
   "source": [
    "**Exercise 6.3** What is your gene's Spearman correlation? What does that mean mathematically? What could this represent biologically? Look into the literature to see if it corroborates this idea."
   ]
  },
  {
   "cell_type": "code",
   "execution_count": null,
   "id": "f424914b",
   "metadata": {},
   "outputs": [],
   "source": [
    "# answer in a comment here"
   ]
  },
  {
   "cell_type": "markdown",
   "id": "d123f959",
   "metadata": {},
   "source": [
    "## (7) Heatmaps\n",
    "**Exercise 7.1** A problem arises if we want to compare many correlations. Heatmaps are useful for visualizing a large number of comparisons. To make a heatmap, we'll use the heatmap() function from seaborn. Let's do the following:\n",
    "\n",
    "1. Set up our data frame to hold all comparisons. All you need to do is to access the first 20 gene names.\n",
    "2. Calculate the correlations for the first 20 genes (just to save time). You'll need to use two for loops.\n",
    "3. Call heatmap() -- this is filled in for you!\n",
    "4. Interpret the data. There is a \"light\" diagonal along the heatmap from the top-left to bottom-right. Is this expected? Why or why not?"
   ]
  },
  {
   "cell_type": "code",
   "execution_count": null,
   "id": "79e1b2a0",
   "metadata": {},
   "outputs": [],
   "source": [
    "# import seaborn as sns"
   ]
  },
  {
   "cell_type": "code",
   "execution_count": null,
   "id": "5149313c",
   "metadata": {},
   "outputs": [],
   "source": [
    "ncomparisons = 20 # define this variable in case we want to change the number of correlations to test\n",
    "                  # this makes it less likely you'll forget to change a number, e.g. in the data frame shape\n",
    "gene_names = FILL IN HERE # get the first ncomparisons gene names\n",
    "\n",
    "\n",
    "# Don't worry about this code\n",
    "# It's good practice to declare your data frame beforehand (it's much faster than appending to a list)\n",
    "# We fill everything in with 0 just as a placeholder\n",
    "corr_df = pd.DataFrame(np.ndarray(shape=(ncomparisons, ncomparisons), dtype=np.float16),\n",
    "                      index = gene_names,\n",
    "                      columns = gene_names)\n",
    "\n",
    "# 2. fill in the data frame!\n",
    "for g1 in gene_names:\n",
    "    for g2 in gene_names:\n",
    "        # calculate the correlations between protein and RNA\n",
    "        # then, use .loc[] to store the correlation in corr_df\n",
    "        FILL IN HERE\n",
    "\n",
    "# 3. create the heat map\n",
    "plot = sns.heatmap(\n",
    "    corr_df,\n",
    "    cmap='mako',\n",
    ")\n",
    "plot.set_xlabel('Protein', fontsize=10)\n",
    "plot.set_ylabel('RNA', fontsize=10)\n",
    "plt.show()\n",
    "\n",
    "# 4. interpret!"
   ]
  },
  {
   "cell_type": "markdown",
   "id": "127284e2",
   "metadata": {},
   "source": [
    "## (8) More with Seaborn\n",
    "seaborn is a nice package which works well with matplotlib and makes prettier plots with more control over the figure.\n",
    "\n",
    "Here's how you make a scatter plot with seaborn, for example:"
   ]
  },
  {
   "cell_type": "code",
   "execution_count": null,
   "id": "e7d72523",
   "metadata": {},
   "outputs": [],
   "source": [
    "fig, ax = plt.subplots()\n",
    "\n",
    "sns.scatterplot( # x-axis\n",
    "    x = clinical_data.loc[:, \"Age.in.Month\"],\n",
    "    y = protein_data.loc[:, \"DYNLT3\"],# y-axis\n",
    "    legend = \"full\",  # show the legend\n",
    "    ax = ax  # necessary for when plotting more than 1 subplot\n",
    ")\n",
    "\n",
    "fig.suptitle('Age vs. DYNLT3')  # set title\n",
    "\n",
    "plt.show()"
   ]
  },
  {
   "cell_type": "markdown",
   "id": "2b2a98a7",
   "metadata": {},
   "source": [
    "**Exercise 8.1** Update the above plot to:\n",
    "\n",
    "1. Have age in years instead of months.\n",
    "2. Color patients based on gender (or another clinical variable of your choosing)\n",
    "3. Have a side-by-side second plot with a different protein of your choosing"
   ]
  },
  {
   "cell_type": "code",
   "execution_count": null,
   "id": "0a02927d",
   "metadata": {},
   "outputs": [],
   "source": [
    "# create plot here"
   ]
  },
  {
   "cell_type": "markdown",
   "id": "392e7cd4",
   "metadata": {},
   "source": [
    "## (9) Saving Plots\n",
    "Remember, to save a plot, we can call plt.savefig() instead of the plt.show()."
   ]
  },
  {
   "cell_type": "code",
   "execution_count": null,
   "id": "d83d3ddc",
   "metadata": {},
   "outputs": [],
   "source": [
    "fig, ax = plt.subplots()\n",
    "\n",
    "sns.scatterplot( # x-axis\n",
    "    x = clinical_data.loc[:, \"Age.in.Month\"],\n",
    "    y = protein_data.loc[:, \"DYNLT3\"],# y-axis\n",
    "    legend = \"full\",  # show the legend\n",
    "    ax = ax  # necessary for when plotting more than 1 subplot\n",
    ")\n",
    "\n",
    "fig.suptitle('Age vs. DYNLT3')  # set title\n",
    "\n",
    "# age_scatter.png is a relative path so check your working directory before running it\n",
    "plt.savefig('age_scatter.png', bbox_inches='tight')"
   ]
  },
  {
   "cell_type": "markdown",
   "id": "bb00966a",
   "metadata": {},
   "source": [
    "# Exercises\n",
    "Only this section will be graded!\n",
    "## 1. Drawing Connections\n",
    "1. Choose a clinical variable and segment the cohort into two groups. \n",
    "2. Find out what the 5 most differentially expressed genes are (we aren't going to do this in a sophisticated way like DESeq, instead just take the mean expression of every single gene within a group and find the gene which has the greatest difference in mean between the two groups)\n",
    "3. Create two scatter plots, side by side, each with one group. Within the scatter plots, plot RNA expression versus protein expression for each of the genes in a different color.\n",
    "4. Add appropriate legend, title, and labels."
   ]
  },
  {
   "cell_type": "code",
   "execution_count": 33,
   "id": "db07b231",
   "metadata": {},
   "outputs": [
    {
     "name": "stdout",
     "output_type": "stream",
     "text": [
      "Name\n",
      "LOC648691       16.698900\n",
      "LOC101927048    11.213025\n",
      "CSN1S2AP         8.509900\n",
      "LOC101929528     7.854400\n",
      "LINC00457        7.540100\n",
      "                  ...    \n",
      "WFDC11                NaN\n",
      "WI2-2373I1.2          NaN\n",
      "XXYLT1-AS1            NaN\n",
      "ZNF565                NaN\n",
      "ZP4                   NaN\n",
      "Length: 23121, dtype: float64\n"
     ]
    },
    {
     "name": "stderr",
     "output_type": "stream",
     "text": [
      "/Users/lantrieu1964/miniconda3/envs/qbio_490_LanTrieu/lib/python3.9/site-packages/seaborn/_oldcore.py:1498: FutureWarning: is_categorical_dtype is deprecated and will be removed in a future version. Use isinstance(dtype, CategoricalDtype) instead\n",
      "  if pd.api.types.is_categorical_dtype(vector):\n",
      "/Users/lantrieu1964/miniconda3/envs/qbio_490_LanTrieu/lib/python3.9/site-packages/seaborn/_oldcore.py:1498: FutureWarning: is_categorical_dtype is deprecated and will be removed in a future version. Use isinstance(dtype, CategoricalDtype) instead\n",
      "  if pd.api.types.is_categorical_dtype(vector):\n",
      "/Users/lantrieu1964/miniconda3/envs/qbio_490_LanTrieu/lib/python3.9/site-packages/seaborn/_oldcore.py:1498: FutureWarning: is_categorical_dtype is deprecated and will be removed in a future version. Use isinstance(dtype, CategoricalDtype) instead\n",
      "  if pd.api.types.is_categorical_dtype(vector):\n",
      "/Users/lantrieu1964/miniconda3/envs/qbio_490_LanTrieu/lib/python3.9/site-packages/seaborn/_oldcore.py:1498: FutureWarning: is_categorical_dtype is deprecated and will be removed in a future version. Use isinstance(dtype, CategoricalDtype) instead\n",
      "  if pd.api.types.is_categorical_dtype(vector):\n"
     ]
    },
    {
     "data": {
      "image/png": "[encoded data removed]",
      "text/plain": [
       "<Figure size 640x480 with 2 Axes>"
      ]
     },
     "metadata": {},
     "output_type": "display_data"
    }
   ],
   "source": [
    "import seaborn as sns\n",
    "import numpy as np\n",
    "import matplotlib.pyplot as plt\n",
    "import pandas as pd\n",
    "\n",
    "#Choose Clinical Variable & Segment Cohort into 2 Groups\n",
    "rna_data = brca.get_transcriptomics()\n",
    "original_clinical_data = brca.get_clinical()\n",
    "clinical_data\n",
    "clinical_data.columns\n",
    "set(clinical_data.Ethnicity)\n",
    "rna_data\n",
    "clinical_data = original_clinical_data[original_clinical_data.Ethnicity.notna()]\n",
    "white_mask = np.where(clinical_data.Ethnicity == \"white\", True, False)\n",
    "white_patients = clinical_data[white_mask]\n",
    "non_white_mask = np.where(clinical_data.Ethnicity != \"white\", True, False)\n",
    "non_white_patients = clinical_data[non_white_mask]\n",
    "non_white_patients = non_white_patients[non_white_patients.notna()]\n",
    "\n",
    "#Find 5 Most Differentially Expressed Genes: \n",
    "cleaned_rna_data = rna_data[original_clinical_data.Ethnicity.notna()]\n",
    "white_genes = cleaned_rna_data[white_mask]\n",
    "white_average = white_genes.mean()\n",
    "non_white_genes = cleaned_rna_data[non_white_mask]\n",
    "non_white_average = non_white_genes.mean()\n",
    "abs_diff = np.abs(white_average - non_white_average)\n",
    "sorted_diff = abs_diff.sort_values(ascending=False)\n",
    "print(sorted_diff)\n",
    "#1. LOC648691       16.698900\n",
    "#2. LOC101927048    11.213025\n",
    "#3. CSN1S2AP         8.509900\n",
    "#4. LOC101929528     7.854400\n",
    "#5. LINC00457        7.540100\n",
    "\n",
    "#Create 2 Scatter Plots w/ Legend, Title, & Labels\n",
    "cleaned_protein = protein_data[original_clinical_data.Ethnicity.notna()]\n",
    "cleaned_protein = cleaned_protein.T.loc[~cleaned_protein.T.index.duplicated(), :].T\n",
    "white_protein_average = cleaned_protein[white_mask].mean()\n",
    "non_white_protein_average = cleaned_protein[non_white_mask].mean()\n",
    "\n",
    "fig, ax = plt.subplots(1, 2, constrained_layout=True)\n",
    "sns.scatterplot(x = white_average, \n",
    "                y = white_protein_average,\n",
    "                legend = \"full\",\n",
    "                ax = ax[0])\n",
    "ax[0].set_title(\"White\")\n",
    "sns.scatterplot(x = non_white_average, \n",
    "                y = non_white_protein_average, \n",
    "                legend = \"full\", \n",
    "                ax = ax[1])\n",
    "ax[1].set_title(\"Non-White\")\n",
    "fig.suptitle('RNA vs. Protein Expression in Different Ethnicities')\n",
    "plt.show()"
   ]
  },
  {
   "cell_type": "markdown",
   "id": "d374d6f3",
   "metadata": {},
   "source": [
    "\n",
    "## 2. Interpretation Skills\n",
    "This section is short-answer based written responses. Please respond in 2-3 sentences to each question below for full credit.\n",
    "1. What do the numbers within the protein and transcriptomics DataFrames represent? Why do we represent them this way?\n",
    "2. Why are there fewer columns in the protein DataFrame than the transcriptomics one?\n",
    "3. Explain how the central dogma may be broken in between DNA -> RNA -> Proteins and how this might affect our proteomics data.\n",
    "4. Why is proteomics data relatively scarce compared to sequencing data?\n",
    "5. Should we ever expect protein expression to be 0 in a tumor sample?\n",
    "6. What are protein domains and how do they relate to the role of a protein?\n",
    "7. Overexpression of the ERBB2 gene is found in up to 20% of breast cancer cases. ERBB2 encodes the receptor tyrosine-protein kinase erbB-2, frequently called HER2 in humans. Thus, cases in which ERBB2 is overexpressed are referred to as HER2+. Briefly skim the following paper and answer the following questions. https://www.sciencedirect.com/science/article/pii/S1044579X20300493\n",
    ">Is ERBB2 an oncogene or a tumor suppressor gene? How do mutations within the gene affect the prognosis of the disease?\n",
    "<br></br>\n",
    ">What are some treatment strategies for HER2+ breast cancer?\n",
    "<br></br>\n",
    ">What is one recent development that has changed our understanding of HER2+ breast cancer?"
   ]
  },
  {
   "cell_type": "markdown",
   "id": "d2fe474e",
   "metadata": {},
   "source": [
    "1. The numbers w/in the protein & transcriptomics DataFrames represent protein expression in terms of fold change and RNA expression in terms of log ratios. We represent them this way because it is much easier to observe them in a way that takes into account each other's values. This allows for easier analysis and comparison since the data is more normalized.\n",
    "\n",
    "2. There fewer columns in the protein DataFrame than the transcriptomics one because not all transcripts are translated into proteins. Some transcripts don't code for anything and other may have undergone post-transcriptional regulation in which the proteins are much harder to record.\n",
    "\n",
    "3. The central dogma may be broken in b/n DNA, RNA, and proteins when there isn't an expected change in protein expression. This broken central dogma might result in RNA levels not matching protein expression levels, which makes proteomics data less accurate and less representative of the genetic issues we are observing.\n",
    "\n",
    "4. Proteomic data is relatively scarce compared to dsequencing data because protein analysis is much more expensive to perform and carry out, while desequencing is much faster and new techniques have allowed for desequencing to take on large quantities of data at a given time. \n",
    "\n",
    "5. We should never expect protein expression to be 0 in a tumor sample, since proteins are essential in carrying out cellular processes, and tumor cells require proteins to function as well. If there are low protein levels, there may be regulatory issues, so a zero is most likely impossible.\n",
    "\n",
    "6. Protein domains are units within units that help the protein function and interact with other molecules. Proteins can have many domains, with each one having a specific role that overall contributed to the protein's function.\n",
    "\n",
    "7. ERBB2 is an oncogene and gain-of-function mutations within the gene will exacerbate the prognosis of a gene, since it would be like a gas pedal that is permanently stuck down. Treatment strategies for HER2+ breast cancer include monoclonal antibody trastuzumab, which targets the extracellular domain of HER2 thus altering the normal tyrosine kinase signaling, and anti-HER2 therapies. A recent development that has changed our understanding of HER2+ breast cancer is that HER2 negative carcinomas do not experience benefits from additional monoclonal antibody trastuzumab treatment."
   ]
  },
  {
   "cell_type": "markdown",
   "id": "6b5fe38f",
   "metadata": {},
   "source": [
    "## 3. Challenge Exercise - Incorporating Genomics\n",
    "This exercise is optional and is worth extra credit up to 5 points. The combined extra credit between challenge exercises will cap out at 5 points total.\n",
    "<br></br>\n",
    "We can get somatic mutation data for cptac patients the same way we get proteomics, transcriptomical, or clinical. Let's explore some aspects of it.\n",
    "1. Save the BRCA somatic mutation data to `mutation_data`\n",
    "2. Determine the top 10 most commonly mutated genes within the dataset.\n",
    "3. Determine what percent of patients have a mutation in at least one of those genes.\n",
    "4. Create a bar plot that shows percent percent of patients that have exactly 0-10 out of 10 of those mutations. Name axes and titles appropriately."
   ]
  },
  {
   "cell_type": "code",
   "execution_count": null,
   "id": "6c491898",
   "metadata": {},
   "outputs": [],
   "source": [
    "# write code here"
   ]
  },
  {
   "cell_type": "markdown",
   "id": "ce764047",
   "metadata": {},
   "source": [
    "## 4. Challenge Exercise - Background Research\n",
    "This exercise is optional and is worth extra credit up to 5 points. The combined extra credit between challenge exercises will cap out at 5 points total.\n",
    "<br></br>\n",
    "PAM50 is a breast cancer model based on clustering of breast cancer subtypes by expression of 50 selected genes. Our clinical data contains PAM50 subtypes for every patient.\n",
    "\n",
    "You can read about the methodology more here:\n",
    "https://www.ncbi.nlm.nih.gov/pmc/articles/PMC2667820/\n",
    "\n",
    "Using the CPTAC dataset, recreate one of the findings present in the paper. Create some form of figure to present your finding. In comments below, state your conclusion from the figure and whether it is supported by the paper above."
   ]
  },
  {
   "cell_type": "code",
   "execution_count": null,
   "id": "93af136e",
   "metadata": {},
   "outputs": [],
   "source": [
    "# write code here"
   ]
  }
 ],
 "metadata": {
  "kernelspec": {
   "display_name": "Python 3 (ipykernel)",
   "language": "python",
   "name": "python3"
  },
  "language_info": {
   "codemirror_mode": {
    "name": "ipython",
    "version": 3
   },
   "file_extension": ".py",
   "mimetype": "text/x-python",
   "name": "python",
   "nbconvert_exporter": "python",
   "pygments_lexer": "ipython3",
   "version": "3.9.18"
  }
 },
 "nbformat": 4,
 "nbformat_minor": 5
}
